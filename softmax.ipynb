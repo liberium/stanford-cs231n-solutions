{
 "cells": [
  {
   "cell_type": "markdown",
   "metadata": {},
   "source": [
    "# Softmax exercise\n",
    "\n",
    "*Complete and hand in this completed worksheet (including its outputs and any supporting code outside of the worksheet) with your assignment submission. For more details see the [assignments page](http://vision.stanford.edu/teaching/cs231n/assignments.html) on the course website.*\n",
    "\n",
    "This exercise is analogous to the SVM exercise. You will:\n",
    "\n",
    "- implement a fully-vectorized **loss function** for the Softmax classifier\n",
    "- implement the fully-vectorized expression for its **analytic gradient**\n",
    "- **check your implementation** with numerical gradient\n",
    "- use a validation set to **tune the learning rate and regularization** strength\n",
    "- **optimize** the loss function with **SGD**\n",
    "- **visualize** the final learned weights\n"
   ]
  },
  {
   "cell_type": "code",
   "execution_count": 1,
   "metadata": {},
   "outputs": [],
   "source": [
    "import numpy as np\n",
    "from cs231n.data_utils import load_CIFAR10\n",
    "import matplotlib.pyplot as plt\n",
    "\n",
    "%matplotlib inline\n",
    "plt.rcParams['figure.figsize'] = (10.0, 8.0)  # set default size of plots\n",
    "plt.rcParams['image.interpolation'] = 'nearest'\n",
    "plt.rcParams['image.cmap'] = 'gray'\n",
    "\n",
    "# for auto-reloading extenrnal modules\n",
    "# see http://stackoverflow.com/questions/1907993/autoreload-of-modules-in-ipython\n",
    "%load_ext autoreload\n",
    "%autoreload 2"
   ]
  },
  {
   "cell_type": "code",
   "execution_count": 2,
   "metadata": {},
   "outputs": [
    {
     "name": "stdout",
     "output_type": "stream",
     "text": [
      "Train data shape:  (49000, 3073)\nTrain labels shape:  (49000,)\nValidation data shape:  (1000, 3073)\nValidation labels shape:  (1000,)\nTest data shape:  (1000, 3073)\nTest labels shape:  (1000,)\ndev data shape:  (500, 3073)\ndev labels shape:  (500,)\n"
     ]
    }
   ],
   "source": [
    "def get_CIFAR10_data(num_training=49000, num_validation=1000, num_test=1000, num_dev=500):\n",
    "    \"\"\"\n",
    "    Load the CIFAR-10 dataset from disk and perform preprocessing to prepare\n",
    "    it for the linear classifier. These are the same steps as we used for the\n",
    "    SVM, but condensed to a single function.  \n",
    "    \"\"\"\n",
    "    # Load the raw CIFAR-10 data\n",
    "    cifar10_dir = 'cs231n/datasets/cifar-10-batches-py'\n",
    "    \n",
    "    X_train, y_train, X_test, y_test = load_CIFAR10(cifar10_dir)\n",
    "    \n",
    "    # subsample the data\n",
    "    mask = list(range(num_training, num_training + num_validation))\n",
    "    X_val = X_train[mask]\n",
    "    y_val = y_train[mask]\n",
    "    mask = list(range(num_training))\n",
    "    X_train = X_train[mask]\n",
    "    y_train = y_train[mask]\n",
    "    mask = list(range(num_test))\n",
    "    X_test = X_test[mask]\n",
    "    y_test = y_test[mask]\n",
    "    mask = np.random.choice(num_training, num_dev, replace=False)\n",
    "    X_dev = X_train[mask]\n",
    "    y_dev = y_train[mask]\n",
    "    \n",
    "    # Preprocessing: reshape the image data into rows\n",
    "    X_train = np.reshape(X_train, (X_train.shape[0], -1))\n",
    "    X_val = np.reshape(X_val, (X_val.shape[0], -1))\n",
    "    X_test = np.reshape(X_test, (X_test.shape[0], -1))\n",
    "    X_dev = np.reshape(X_dev, (X_dev.shape[0], -1))\n",
    "    \n",
    "    # Normalize the data: subtract the mean image\n",
    "    mean_image = np.mean(X_train, axis = 0)\n",
    "    X_train -= mean_image\n",
    "    X_val -= mean_image\n",
    "    X_test -= mean_image\n",
    "    X_dev -= mean_image\n",
    "    \n",
    "    # add bias dimension and transform into columns\n",
    "    X_train = np.hstack([X_train, np.ones((X_train.shape[0], 1))])\n",
    "    X_val = np.hstack([X_val, np.ones((X_val.shape[0], 1))])\n",
    "    X_test = np.hstack([X_test, np.ones((X_test.shape[0], 1))])\n",
    "    X_dev = np.hstack([X_dev, np.ones((X_dev.shape[0], 1))])\n",
    "    \n",
    "    return X_train, y_train, X_val, y_val, X_test, y_test, X_dev, y_dev\n",
    "\n",
    "\n",
    "# Cleaning up variables to prevent loading data multiple times (which may cause memory issue)\n",
    "try:\n",
    "   del X_train, y_train\n",
    "   del X_test, y_test\n",
    "   print('Clear previously loaded data.')\n",
    "except NameError:\n",
    "   pass\n",
    "\n",
    "# Invoke the above function to get our data.\n",
    "X_train, y_train, X_val, y_val, X_test, y_test, X_dev, y_dev = get_CIFAR10_data()\n",
    "print('Train data shape: ', X_train.shape)\n",
    "print('Train labels shape: ', y_train.shape)\n",
    "print('Validation data shape: ', X_val.shape)\n",
    "print('Validation labels shape: ', y_val.shape)\n",
    "print('Test data shape: ', X_test.shape)\n",
    "print('Test labels shape: ', y_test.shape)\n",
    "print('dev data shape: ', X_dev.shape)\n",
    "print('dev labels shape: ', y_dev.shape)"
   ]
  },
  {
   "cell_type": "markdown",
   "metadata": {},
   "source": [
    "## Softmax Classifier\n",
    "\n",
    "Your code for this section will all be written inside **cs231n/classifiers/softmax.py**. \n"
   ]
  },
  {
   "cell_type": "code",
   "execution_count": 18,
   "metadata": {},
   "outputs": [
    {
     "name": "stdout",
     "output_type": "stream",
     "text": [
      "loss: 2.411736\nsanity check: 2.302585\n"
     ]
    }
   ],
   "source": [
    "# First implement the naive softmax loss function with nested loops.\n",
    "# Open the file cs231n/classifiers/softmax.py and implement the\n",
    "# softmax_loss_naive function.\n",
    "\n",
    "from cs231n.classifiers.softmax import softmax_loss_naive\n",
    "import time\n",
    "\n",
    "# Generate a random softmax weight matrix and use it to compute the loss.\n",
    "W = np.random.randn(3073, 10) * 0.0001\n",
    "loss, grad = softmax_loss_naive(W, X_dev, y_dev, 0.0)\n",
    "\n",
    "# As a rough sanity check, our loss should be something close to -log(0.1).\n",
    "print('loss: %f' % loss)\n",
    "print('sanity check: %f' % (-np.log(0.1)))"
   ]
  },
  {
   "cell_type": "markdown",
   "metadata": {},
   "source": [
    "## Inline Question 1:\n",
    "Why do we expect our loss to be close to -log(0.1)? Explain briefly.**\n",
    "\n",
    "**Your answer:** because exp(x) tends to 1 when x tends to 0 and elements of W are close enough to 0.\n"
   ]
  },
  {
   "cell_type": "code",
   "execution_count": 23,
   "metadata": {},
   "outputs": [
    {
     "name": "stdout",
     "output_type": "stream",
     "text": [
      "numerical: 2.522765 analytic: 2.522764, relative error: 6.896922e-09\n"
     ]
    },
    {
     "name": "stdout",
     "output_type": "stream",
     "text": [
      "numerical: -6.323138 analytic: -6.323138, relative error: 1.001469e-08\n"
     ]
    },
    {
     "name": "stdout",
     "output_type": "stream",
     "text": [
      "numerical: 2.530781 analytic: 2.530781, relative error: 4.727404e-10\n"
     ]
    },
    {
     "name": "stdout",
     "output_type": "stream",
     "text": [
      "numerical: 0.286191 analytic: 0.286191, relative error: 1.103661e-07\n"
     ]
    },
    {
     "name": "stdout",
     "output_type": "stream",
     "text": [
      "numerical: -0.880719 analytic: -0.880719, relative error: 7.108292e-08\n"
     ]
    },
    {
     "name": "stdout",
     "output_type": "stream",
     "text": [
      "numerical: -0.283994 analytic: -0.283994, relative error: 2.770722e-07\n"
     ]
    },
    {
     "name": "stdout",
     "output_type": "stream",
     "text": [
      "numerical: 1.599664 analytic: 1.599664, relative error: 3.114603e-08\n"
     ]
    },
    {
     "name": "stdout",
     "output_type": "stream",
     "text": [
      "numerical: -1.934400 analytic: -1.934400, relative error: 8.020750e-09\n"
     ]
    },
    {
     "name": "stdout",
     "output_type": "stream",
     "text": [
      "numerical: 0.000828 analytic: 0.000828, relative error: 1.843438e-05\n"
     ]
    },
    {
     "name": "stdout",
     "output_type": "stream",
     "text": [
      "numerical: 0.451592 analytic: 0.451592, relative error: 2.765966e-08\n"
     ]
    },
    {
     "name": "stdout",
     "output_type": "stream",
     "text": [
      "numerical: -0.510416 analytic: -0.510416, relative error: 3.985868e-08\n"
     ]
    },
    {
     "name": "stdout",
     "output_type": "stream",
     "text": [
      "numerical: -1.559317 analytic: -1.559317, relative error: 1.286797e-08\n"
     ]
    },
    {
     "name": "stdout",
     "output_type": "stream",
     "text": [
      "numerical: 6.796188 analytic: 6.796188, relative error: 9.259382e-09\n"
     ]
    },
    {
     "name": "stdout",
     "output_type": "stream",
     "text": [
      "numerical: -2.187328 analytic: -2.187328, relative error: 5.269097e-09\n"
     ]
    },
    {
     "name": "stdout",
     "output_type": "stream",
     "text": [
      "numerical: -2.666830 analytic: -2.666830, relative error: 1.113528e-08\n"
     ]
    },
    {
     "name": "stdout",
     "output_type": "stream",
     "text": [
      "numerical: -0.251061 analytic: -0.251061, relative error: 1.146603e-08\n"
     ]
    },
    {
     "name": "stdout",
     "output_type": "stream",
     "text": [
      "numerical: -0.716723 analytic: -0.716723, relative error: 1.189924e-07\n"
     ]
    },
    {
     "name": "stdout",
     "output_type": "stream",
     "text": [
      "numerical: 4.817493 analytic: 4.817493, relative error: 3.693431e-09\n"
     ]
    },
    {
     "name": "stdout",
     "output_type": "stream",
     "text": [
      "numerical: 0.436050 analytic: 0.436050, relative error: 1.588925e-08\n"
     ]
    },
    {
     "name": "stdout",
     "output_type": "stream",
     "text": [
      "numerical: 0.142030 analytic: 0.142030, relative error: 1.840729e-07\n"
     ]
    }
   ],
   "source": [
    "# Complete the implementation of softmax_loss_naive and implement a (naive)\n",
    "# version of the gradient that uses nested loops.\n",
    "loss, grad = softmax_loss_naive(W, X_dev, y_dev, 0.0)\n",
    "\n",
    "# As we did for the SVM, use numeric gradient checking as a debugging tool.\n",
    "# The numeric gradient should be close to the analytic gradient.\n",
    "from cs231n.gradient_check import grad_check_sparse\n",
    "f = lambda w: softmax_loss_naive(w, X_dev, y_dev, 0.0)[0]\n",
    "grad_numerical = grad_check_sparse(f, W, grad, 10)\n",
    "\n",
    "# similar to SVM case, do another gradient check with regularization\n",
    "loss, grad = softmax_loss_naive(W, X_dev, y_dev, 5e1)\n",
    "f = lambda w: softmax_loss_naive(w, X_dev, y_dev, 5e1)[0]\n",
    "grad_numerical = grad_check_sparse(f, W, grad, 10)"
   ]
  },
  {
   "cell_type": "code",
   "execution_count": 32,
   "metadata": {},
   "outputs": [
    {
     "name": "stdout",
     "output_type": "stream",
     "text": [
      "naive loss: 2.411736e+00 computed in 0.169819s\nvectorized loss: 2.411736e+00 computed in 0.002955s\nLoss difference: 0.000000\nGradient difference: 0.000000\n"
     ]
    }
   ],
   "source": [
    "# Now that we have a naive implementation of the softmax loss function and its gradient,\n",
    "# implement a vectorized version in softmax_loss_vectorized.\n",
    "# The two versions should compute the same results, but the vectorized version should be\n",
    "# much faster.\n",
    "tic = time.time()\n",
    "loss_naive, grad_naive = softmax_loss_naive(W, X_dev, y_dev, 0.000005)\n",
    "toc = time.time()\n",
    "print('naive loss: %e computed in %fs' % (loss_naive, toc - tic))\n",
    "\n",
    "from cs231n.classifiers.softmax import softmax_loss_vectorized\n",
    "tic = time.time()\n",
    "loss_vectorized, grad_vectorized = softmax_loss_vectorized(W, X_dev, y_dev, 0.000005)\n",
    "toc = time.time()\n",
    "print('vectorized loss: %e computed in %fs' % (loss_vectorized, toc - tic))\n",
    "\n",
    "# As we did for the SVM, we use the Frobenius norm to compare the two versions\n",
    "# of the gradient.\n",
    "grad_difference = np.linalg.norm(grad_naive - grad_vectorized, ord='fro')\n",
    "print('Loss difference: %f' % np.abs(loss_naive - loss_vectorized))\n",
    "print('Gradient difference: %f' % grad_difference)"
   ]
  },
  {
   "cell_type": "code",
   "execution_count": 35,
   "metadata": {},
   "outputs": [
    {
     "name": "stdout",
     "output_type": "stream",
     "text": [
      "lr 1.000000e-07 reg 1.000000e+04 train accuracy: 0.328735 val accuracy: 0.348000\nlr 1.000000e-07 reg 2.000000e+04 train accuracy: 0.335449 val accuracy: 0.341000\nlr 1.000000e-07 reg 3.000000e+04 train accuracy: 0.320469 val accuracy: 0.336000\nlr 1.000000e-07 reg 4.000000e+04 train accuracy: 0.319510 val accuracy: 0.339000\nlr 1.000000e-07 reg 5.000000e+04 train accuracy: 0.304551 val accuracy: 0.324000\nlr 1.000000e-07 reg 6.000000e+04 train accuracy: 0.305898 val accuracy: 0.321000\nlr 1.000000e-07 reg 7.000000e+04 train accuracy: 0.301286 val accuracy: 0.315000\nlr 1.000000e-07 reg 8.000000e+04 train accuracy: 0.286980 val accuracy: 0.299000\nlr 1.000000e-07 reg 9.000000e+04 train accuracy: 0.284531 val accuracy: 0.302000\nlr 1.000000e-07 reg 1.000000e+05 train accuracy: 0.274633 val accuracy: 0.292000\nlr 2.000000e-07 reg 1.000000e+04 train accuracy: 0.349633 val accuracy: 0.366000\nlr 2.000000e-07 reg 2.000000e+04 train accuracy: 0.331286 val accuracy: 0.348000\nlr 2.000000e-07 reg 3.000000e+04 train accuracy: 0.324653 val accuracy: 0.335000\nlr 2.000000e-07 reg 4.000000e+04 train accuracy: 0.321000 val accuracy: 0.322000\nlr 2.000000e-07 reg 5.000000e+04 train accuracy: 0.304592 val accuracy: 0.312000\nlr 2.000000e-07 reg 6.000000e+04 train accuracy: 0.294939 val accuracy: 0.316000\nlr 2.000000e-07 reg 7.000000e+04 train accuracy: 0.302041 val accuracy: 0.305000\nlr 2.000000e-07 reg 8.000000e+04 train accuracy: 0.286939 val accuracy: 0.304000\nlr 2.000000e-07 reg 9.000000e+04 train accuracy: 0.279918 val accuracy: 0.295000\nlr 2.000000e-07 reg 1.000000e+05 train accuracy: 0.287204 val accuracy: 0.301000\nlr 3.000000e-07 reg 1.000000e+04 train accuracy: 0.359408 val accuracy: 0.365000\nlr 3.000000e-07 reg 2.000000e+04 train accuracy: 0.332020 val accuracy: 0.335000\nlr 3.000000e-07 reg 3.000000e+04 train accuracy: 0.334306 val accuracy: 0.346000\nlr 3.000000e-07 reg 4.000000e+04 train accuracy: 0.314939 val accuracy: 0.325000\nlr 3.000000e-07 reg 5.000000e+04 train accuracy: 0.309347 val accuracy: 0.315000\nlr 3.000000e-07 reg 6.000000e+04 train accuracy: 0.294776 val accuracy: 0.313000\nlr 3.000000e-07 reg 7.000000e+04 train accuracy: 0.294163 val accuracy: 0.312000\nlr 3.000000e-07 reg 8.000000e+04 train accuracy: 0.276204 val accuracy: 0.284000\nlr 3.000000e-07 reg 9.000000e+04 train accuracy: 0.299224 val accuracy: 0.302000\nlr 3.000000e-07 reg 1.000000e+05 train accuracy: 0.297796 val accuracy: 0.301000\nlr 4.000000e-07 reg 1.000000e+04 train accuracy: 0.348959 val accuracy: 0.367000\nlr 4.000000e-07 reg 2.000000e+04 train accuracy: 0.336204 val accuracy: 0.348000\nlr 4.000000e-07 reg 3.000000e+04 train accuracy: 0.313449 val accuracy: 0.326000\nlr 4.000000e-07 reg 4.000000e+04 train accuracy: 0.312388 val accuracy: 0.330000\nlr 4.000000e-07 reg 5.000000e+04 train accuracy: 0.296878 val accuracy: 0.312000\nlr 4.000000e-07 reg 6.000000e+04 train accuracy: 0.308449 val accuracy: 0.321000\nlr 4.000000e-07 reg 7.000000e+04 train accuracy: 0.295327 val accuracy: 0.297000\nlr 4.000000e-07 reg 8.000000e+04 train accuracy: 0.271980 val accuracy: 0.285000\nlr 4.000000e-07 reg 9.000000e+04 train accuracy: 0.298184 val accuracy: 0.301000\nlr 4.000000e-07 reg 1.000000e+05 train accuracy: 0.286306 val accuracy: 0.297000\nlr 5.000000e-07 reg 1.000000e+04 train accuracy: 0.351469 val accuracy: 0.363000\nlr 5.000000e-07 reg 2.000000e+04 train accuracy: 0.325061 val accuracy: 0.351000\nlr 5.000000e-07 reg 3.000000e+04 train accuracy: 0.327592 val accuracy: 0.335000\nlr 5.000000e-07 reg 4.000000e+04 train accuracy: 0.311531 val accuracy: 0.325000\nlr 5.000000e-07 reg 5.000000e+04 train accuracy: 0.310531 val accuracy: 0.318000\nlr 5.000000e-07 reg 6.000000e+04 train accuracy: 0.299020 val accuracy: 0.309000\nlr 5.000000e-07 reg 7.000000e+04 train accuracy: 0.281061 val accuracy: 0.282000\nlr 5.000000e-07 reg 8.000000e+04 train accuracy: 0.296429 val accuracy: 0.314000\nlr 5.000000e-07 reg 9.000000e+04 train accuracy: 0.297041 val accuracy: 0.309000\nlr 5.000000e-07 reg 1.000000e+05 train accuracy: 0.275224 val accuracy: 0.301000\nlr 6.000000e-07 reg 1.000000e+04 train accuracy: 0.355265 val accuracy: 0.375000\nlr 6.000000e-07 reg 2.000000e+04 train accuracy: 0.326571 val accuracy: 0.345000\nlr 6.000000e-07 reg 3.000000e+04 train accuracy: 0.330510 val accuracy: 0.326000\nlr 6.000000e-07 reg 4.000000e+04 train accuracy: 0.315633 val accuracy: 0.306000\nlr 6.000000e-07 reg 5.000000e+04 train accuracy: 0.296980 val accuracy: 0.317000\nlr 6.000000e-07 reg 6.000000e+04 train accuracy: 0.300224 val accuracy: 0.328000\nlr 6.000000e-07 reg 7.000000e+04 train accuracy: 0.300571 val accuracy: 0.318000\nlr 6.000000e-07 reg 8.000000e+04 train accuracy: 0.273796 val accuracy: 0.292000\nlr 6.000000e-07 reg 9.000000e+04 train accuracy: 0.267224 val accuracy: 0.276000\nlr 6.000000e-07 reg 1.000000e+05 train accuracy: 0.268347 val accuracy: 0.281000\nlr 7.000000e-07 reg 1.000000e+04 train accuracy: 0.354653 val accuracy: 0.360000\nlr 7.000000e-07 reg 2.000000e+04 train accuracy: 0.321592 val accuracy: 0.330000\nlr 7.000000e-07 reg 3.000000e+04 train accuracy: 0.318694 val accuracy: 0.334000\nlr 7.000000e-07 reg 4.000000e+04 train accuracy: 0.319918 val accuracy: 0.337000\nlr 7.000000e-07 reg 5.000000e+04 train accuracy: 0.303592 val accuracy: 0.305000\nlr 7.000000e-07 reg 6.000000e+04 train accuracy: 0.287388 val accuracy: 0.302000\nlr 7.000000e-07 reg 7.000000e+04 train accuracy: 0.288429 val accuracy: 0.298000\nlr 7.000000e-07 reg 8.000000e+04 train accuracy: 0.279122 val accuracy: 0.291000\nlr 7.000000e-07 reg 9.000000e+04 train accuracy: 0.299367 val accuracy: 0.305000\nlr 7.000000e-07 reg 1.000000e+05 train accuracy: 0.304061 val accuracy: 0.314000\nlr 8.000000e-07 reg 1.000000e+04 train accuracy: 0.351469 val accuracy: 0.348000\nlr 8.000000e-07 reg 2.000000e+04 train accuracy: 0.331898 val accuracy: 0.347000\nlr 8.000000e-07 reg 3.000000e+04 train accuracy: 0.324408 val accuracy: 0.333000\nlr 8.000000e-07 reg 4.000000e+04 train accuracy: 0.300061 val accuracy: 0.308000\nlr 8.000000e-07 reg 5.000000e+04 train accuracy: 0.285020 val accuracy: 0.296000\nlr 8.000000e-07 reg 6.000000e+04 train accuracy: 0.301347 val accuracy: 0.296000\nlr 8.000000e-07 reg 7.000000e+04 train accuracy: 0.279939 val accuracy: 0.295000\nlr 8.000000e-07 reg 8.000000e+04 train accuracy: 0.281878 val accuracy: 0.293000\nlr 8.000000e-07 reg 9.000000e+04 train accuracy: 0.306367 val accuracy: 0.305000\nlr 8.000000e-07 reg 1.000000e+05 train accuracy: 0.277755 val accuracy: 0.281000\nlr 9.000000e-07 reg 1.000000e+04 train accuracy: 0.349612 val accuracy: 0.359000\nlr 9.000000e-07 reg 2.000000e+04 train accuracy: 0.324102 val accuracy: 0.327000\nlr 9.000000e-07 reg 3.000000e+04 train accuracy: 0.303469 val accuracy: 0.312000\nlr 9.000000e-07 reg 4.000000e+04 train accuracy: 0.310551 val accuracy: 0.322000\nlr 9.000000e-07 reg 5.000000e+04 train accuracy: 0.288939 val accuracy: 0.290000\nlr 9.000000e-07 reg 6.000000e+04 train accuracy: 0.301571 val accuracy: 0.316000\nlr 9.000000e-07 reg 7.000000e+04 train accuracy: 0.294735 val accuracy: 0.301000\nlr 9.000000e-07 reg 8.000000e+04 train accuracy: 0.273204 val accuracy: 0.282000\nlr 9.000000e-07 reg 9.000000e+04 train accuracy: 0.291571 val accuracy: 0.303000\nlr 9.000000e-07 reg 1.000000e+05 train accuracy: 0.255041 val accuracy: 0.277000\nlr 1.000000e-06 reg 1.000000e+04 train accuracy: 0.347245 val accuracy: 0.370000\nlr 1.000000e-06 reg 2.000000e+04 train accuracy: 0.339694 val accuracy: 0.346000\nlr 1.000000e-06 reg 3.000000e+04 train accuracy: 0.320939 val accuracy: 0.324000\nlr 1.000000e-06 reg 4.000000e+04 train accuracy: 0.321265 val accuracy: 0.331000\nlr 1.000000e-06 reg 5.000000e+04 train accuracy: 0.309735 val accuracy: 0.312000\nlr 1.000000e-06 reg 6.000000e+04 train accuracy: 0.276571 val accuracy: 0.295000\nlr 1.000000e-06 reg 7.000000e+04 train accuracy: 0.301306 val accuracy: 0.307000\nlr 1.000000e-06 reg 8.000000e+04 train accuracy: 0.303776 val accuracy: 0.313000\nlr 1.000000e-06 reg 9.000000e+04 train accuracy: 0.283673 val accuracy: 0.296000\nlr 1.000000e-06 reg 1.000000e+05 train accuracy: 0.273449 val accuracy: 0.271000\nbest validation accuracy achieved during cross-validation: 0.375000\nCPU times: user 12min 28s, sys: 14 s, total: 12min 42s\nWall time: 3min 11s\n"
     ]
    }
   ],
   "source": [
    "%%time\n",
    "# Use the validation set to tune hyperparameters (regularization strength and\n",
    "# learning rate). You should experiment with different ranges for the learning\n",
    "# rates and regularization strengths; if you are careful you should be able to\n",
    "# get a classification accuracy of over 0.35 on the validation set.\n",
    "from cs231n.classifiers import Softmax\n",
    "results = {}\n",
    "best_val = -1\n",
    "best_softmax = None\n",
    "learning_rates = np.linspace(1e-7, 1e-6, 10)\n",
    "regularization_strengths = np.linspace(1e+4, 1e+5, 10)\n",
    "\n",
    "################################################################################\n",
    "# TODO:                                                                        #\n",
    "# Use the validation set to set the learning rate and regularization strength. #\n",
    "# This should be identical to the validation that you did for the SVM; save    #\n",
    "# the best trained softmax classifer in best_softmax.                          #\n",
    "################################################################################\n",
    "for lr in learning_rates:\n",
    "    for reg in regularization_strengths:\n",
    "        classifier = Softmax()\n",
    "        classifier.train(X_train, y_train, learning_rate=lr, reg=reg, num_iters=1000)\n",
    "        y_train_pred = classifier.predict(X_train)\n",
    "        train_accuracy = np.mean(y_train_pred == y_train)\n",
    "        y_val_pred = classifier.predict(X_val)\n",
    "        val_accuracy = np.mean(y_val == y_val_pred)\n",
    "        results[(lr, reg)] = (train_accuracy, val_accuracy)\n",
    "        if val_accuracy > best_val:\n",
    "            best_val = val_accuracy\n",
    "            best_softmax = classifier\n",
    "################################################################################\n",
    "#                              END OF YOUR CODE                                #\n",
    "################################################################################\n",
    "    \n",
    "# Print out results.\n",
    "for lr, reg in sorted(results):\n",
    "    train_accuracy, val_accuracy = results[(lr, reg)]\n",
    "    print('lr %e reg %e train accuracy: %f val accuracy: %f' % (\n",
    "                lr, reg, train_accuracy, val_accuracy))\n",
    "    \n",
    "print('best validation accuracy achieved during cross-validation: %f' % best_val)"
   ]
  },
  {
   "cell_type": "code",
   "execution_count": 36,
   "metadata": {},
   "outputs": [
    {
     "name": "stdout",
     "output_type": "stream",
     "text": [
      "softmax on raw pixels final test set accuracy: 0.364000\n"
     ]
    }
   ],
   "source": [
    "# evaluate on test set\n",
    "# Evaluate the best softmax on test set\n",
    "y_test_pred = best_softmax.predict(X_test)\n",
    "test_accuracy = np.mean(y_test == y_test_pred)\n",
    "print('softmax on raw pixels final test set accuracy: %f' % (test_accuracy, ))"
   ]
  },
  {
   "cell_type": "markdown",
   "metadata": {},
   "source": [
    "**Inline Question** - *True or False*\n",
    "\n",
    "It's possible to add a new datapoint to a training set that would leave the SVM loss unchanged, but this is not the case with the Softmax classifier loss.\n",
    "\n",
    "*Your answer*:\n",
    "\n",
    "*Your explanation*:"
   ]
  },
  {
   "cell_type": "code",
   "execution_count": null,
   "metadata": {},
   "outputs": [],
   "source": [
    "# Visualize the learned weights for each class\n",
    "w = best_softmax.W[:-1,:] # strip out the bias\n",
    "w = w.reshape(32, 32, 3, 10)\n",
    "\n",
    "w_min, w_max = np.min(w), np.max(w)\n",
    "\n",
    "classes = ['plane', 'car', 'bird', 'cat', 'deer', 'dog', 'frog', 'horse', 'ship', 'truck']\n",
    "for i in range(10):\n",
    "    plt.subplot(2, 5, i + 1)\n",
    "    \n",
    "    # Rescale the weights to be between 0 and 255\n",
    "    wimg = 255.0 * (w[:, :, :, i].squeeze() - w_min) / (w_max - w_min)\n",
    "    plt.imshow(wimg.astype('uint8'))\n",
    "    plt.axis('off')\n",
    "    plt.title(classes[i])"
   ]
  }
 ],
 "metadata": {
  "kernelspec": {
   "display_name": "Python 2",
   "language": "python",
   "name": "python2"
  },
  "language_info": {
   "codemirror_mode": {
    "name": "ipython",
    "version": 3
   },
   "file_extension": ".py",
   "mimetype": "text/x-python",
   "name": "python",
   "nbconvert_exporter": "python",
   "pygments_lexer": "ipython3",
   "version": "3.6.4"
  }
 },
 "nbformat": 4,
 "nbformat_minor": 1
}
